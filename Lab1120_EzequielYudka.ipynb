{
 "cells": [
  {
   "cell_type": "code",
   "execution_count": 1,
   "id": "3c553001-d0b7-4f25-ac86-0e6ae8a463d3",
   "metadata": {
    "tags": []
   },
   "outputs": [],
   "source": [
    "import numpy as np\n",
    "import matplotlib.pyplot as plt\n",
    "import scipy.stats as stats\n",
    "from scipy.stats import expon\n",
    "import matplotlib as mpl\n",
    "import pandas as pd"
   ]
  },
  {
   "cell_type": "code",
   "execution_count": 2,
   "id": "f14dcdd2-1c6d-4738-8adf-d72d9be96393",
   "metadata": {
    "tags": []
   },
   "outputs": [],
   "source": [
    "import scipy as sp"
   ]
  },
  {
   "cell_type": "markdown",
   "id": "a73984db-ddcf-4c21-8594-adfca1f36bbf",
   "metadata": {},
   "source": [
    "## Exercise 1b"
   ]
  },
  {
   "cell_type": "code",
   "execution_count": 18,
   "id": "fe650db1-512f-41d4-974e-fdf3e5d788e1",
   "metadata": {
    "tags": []
   },
   "outputs": [],
   "source": [
    "array = np.array([1,2,3])\n",
    "transition_matrix = (np.array([[0.2, 0.7, 0.1], [0.2, 0.5, 0.3], [0.2, 0.4, 0.4]]))\n",
    "\n",
    "x = [1]\n",
    "x_iteration = 1\n",
    "\n",
    "for i in range(30):\n",
    "    if x_iteration==1:\n",
    "        x_iteration=np.random.choice(array, p = transition_matrix[0])\n",
    "        x.append(x_iteration)\n",
    "    if x_iteration==2:\n",
    "        x_iteration=np.random.choice(array, p = transition_matrix[1])\n",
    "        x.append(x_iteration)\n",
    "    if x_iteration==3:\n",
    "        x_iteration=np.random.choice(array, p = transition_matrix[2])\n",
    "        x.append(x_iteration)"
   ]
  },
  {
   "cell_type": "code",
   "execution_count": 9,
   "id": "0149f5c6-9a98-4b82-9c41-5502e9a83635",
   "metadata": {
    "tags": []
   },
   "outputs": [
    {
     "data": {
      "text/plain": [
       "matrix([[0.2, 0.7, 0.1]])"
      ]
     },
     "execution_count": 9,
     "metadata": {},
     "output_type": "execute_result"
    }
   ],
   "source": [
    "#np.transpose(pi)@transition_matrix"
   ]
  },
  {
   "cell_type": "code",
   "execution_count": 19,
   "id": "a7828306-7832-45b2-bb22-a606c6168dbf",
   "metadata": {
    "tags": []
   },
   "outputs": [
    {
     "data": {
      "text/plain": [
       "[1,\n",
       " 2,\n",
       " 3,\n",
       " 2,\n",
       " 2,\n",
       " 1,\n",
       " 1,\n",
       " 2,\n",
       " 2,\n",
       " 2,\n",
       " 2,\n",
       " 1,\n",
       " 2,\n",
       " 3,\n",
       " 2,\n",
       " 3,\n",
       " 1,\n",
       " 2,\n",
       " 2,\n",
       " 1,\n",
       " 2,\n",
       " 1,\n",
       " 2,\n",
       " 2,\n",
       " 3,\n",
       " 2,\n",
       " 3,\n",
       " 3,\n",
       " 3,\n",
       " 3,\n",
       " 2,\n",
       " 1,\n",
       " 2,\n",
       " 1,\n",
       " 2,\n",
       " 2,\n",
       " 1,\n",
       " 2,\n",
       " 1,\n",
       " 2,\n",
       " 1,\n",
       " 2,\n",
       " 2,\n",
       " 2,\n",
       " 3,\n",
       " 2,\n",
       " 3,\n",
       " 2,\n",
       " 1]"
      ]
     },
     "execution_count": 19,
     "metadata": {},
     "output_type": "execute_result"
    }
   ],
   "source": [
    "x"
   ]
  },
  {
   "cell_type": "markdown",
   "id": "c9c0a6f3-8257-44d7-b122-430280e1de5d",
   "metadata": {},
   "source": [
    "## Exercise 2b"
   ]
  },
  {
   "cell_type": "code",
   "execution_count": 3,
   "id": "350c0cd4-5a3c-4399-988f-e881cc75bc73",
   "metadata": {
    "tags": []
   },
   "outputs": [
    {
     "data": {
      "text/plain": [
       "array([0.2       , 0.51111111, 0.28888889])"
      ]
     },
     "execution_count": 3,
     "metadata": {},
     "output_type": "execute_result"
    }
   ],
   "source": [
    "array = np.array([1,2,3])\n",
    "transition_matrix = (np.array([[0.2, 0.7, 0.1], [0.2, 0.5, 0.3], [0.2, 0.4, 0.4]]))\n",
    "\n",
    "pi = [0,0,1]\n",
    "result_2b = np.transpose(pi)@np.linalg.matrix_power(transition_matrix, 100)\n",
    "result_2b"
   ]
  },
  {
   "cell_type": "markdown",
   "id": "e3865354-2f2b-4b95-86c4-c5888605b421",
   "metadata": {},
   "source": [
    "We can see we got the same results as in the handwritten part"
   ]
  },
  {
   "cell_type": "code",
   "execution_count": 15,
   "id": "a6448113-46c0-4a91-896b-ac1a7e55a766",
   "metadata": {
    "tags": []
   },
   "outputs": [],
   "source": [
    "x_0 = [0,0,1]\n",
    "list_x0 = []\n",
    "x_1 = [0,1,0]\n",
    "list_x1 = []\n",
    "\n",
    "def norm2(x):\n",
    "    return(np.sum(x**2) ** 0.5)\n",
    "\n",
    "for i in range(50):\n",
    "    #Source consulted: https://stackoverflow.com/questions/35213592/numpy-calculate-square-of-norm-2-of-vector\n",
    "    iterate_0 = (norm2((np.transpose(x_0)@np.linalg.matrix_power(transition_matrix, i))- (np.transpose(x_0)@np.linalg.matrix_power(transition_matrix, 100)))**2)\n",
    "    list_x0.append([i,iterate_0])\n",
    "    iterate_1 = (norm2((np.transpose(x_1)@np.linalg.matrix_power(transition_matrix, i))- (np.transpose(x_1)@np.linalg.matrix_power(transition_matrix, 100)))**2)\n",
    "    list_x1.append([i,iterate_1])\n",
    "    \n",
    "df_x0 = pd.DataFrame(list_x0)\n",
    "df_x0=df_x0.rename(columns={0: \"i\", 1: \"(||π_i − π_∞||)^2\"})\n",
    "df_x1 = pd.DataFrame(list_x1)\n",
    "df_x1=df_x1.rename(columns={0: \"i\", 1: \"(||π_i − π_∞||)^2\"})"
   ]
  },
  {
   "cell_type": "code",
   "execution_count": 16,
   "id": "9932c9d2-0703-4694-8d05-f98bf6d91ce2",
   "metadata": {
    "tags": []
   },
   "outputs": [
    {
     "data": {
      "image/png": "[encoded data removed]",
      "text/plain": [
       "<Figure size 640x480 with 1 Axes>"
      ]
     },
     "metadata": {},
     "output_type": "display_data"
    }
   ],
   "source": [
    "plt.plot(df_x0['i'], df_x0[\"(||π_i − π_∞||)^2\"],'o-');\n",
    "plt.plot(df_x1['i'], df_x1[\"(||π_i − π_∞||)^2\"],'o-');\n",
    "plt.yscale('log')"
   ]
  },
  {
   "cell_type": "markdown",
   "id": "350be161-0c7a-4a8e-b8a8-5daa522b9a39",
   "metadata": {
    "tags": []
   },
   "source": [
    "We can see that after around 14 iterations both cases converge, and that before the norm square of [0,0,1] is greater than the norm square of [0,1,0]"
   ]
  },
  {
   "cell_type": "markdown",
   "id": "49204b94-fecf-4f7d-9ac9-9ef2f7099638",
   "metadata": {},
   "source": [
    "## Exercise 3 a"
   ]
  },
  {
   "cell_type": "markdown",
   "id": "05f5790f-74d3-49d3-acf3-a9c18be934ee",
   "metadata": {},
   "source": [
    "We create a function from the code of question 1a changed"
   ]
  },
  {
   "cell_type": "code",
   "execution_count": 27,
   "id": "d2b3f056-abd5-47bf-b936-4891e27a6877",
   "metadata": {
    "tags": []
   },
   "outputs": [],
   "source": [
    "def get_markov_chain(input_array, input_transition_matrix, x_start):\n",
    "    time_saved = []\n",
    "    for i in range(10000):\n",
    "        x_iteration = x_start\n",
    "        time = 0\n",
    "        while x_iteration!=3:\n",
    "            if x_iteration==1:\n",
    "                x_new=np.random.choice(input_array, p = input_transition_matrix[0])\n",
    "            elif x_iteration==2:\n",
    "                x_new=np.random.choice(input_array, p = input_transition_matrix[1])\n",
    "            elif x_iteration==3:\n",
    "                x_new=np.random.choice(input_array, p = input_transition_matrix[2])\n",
    "            time+=1\n",
    "            x_iteration=x_new\n",
    "        time_saved.append(time)\n",
    "    return time_saved"
   ]
  },
  {
   "cell_type": "code",
   "execution_count": 28,
   "id": "b3ffa365-b1db-48e6-bfab-fa16f91b37cb",
   "metadata": {
    "tags": []
   },
   "outputs": [],
   "source": [
    "array = np.array([1,2,3])\n",
    "transition_matrix = (np.array([[0.2, 0.7, 0.1], [0.2, 0.5, 0.3], [0.2, 0.4, 0.4]]))"
   ]
  },
  {
   "cell_type": "code",
   "execution_count": 29,
   "id": "01e5041b-96da-4f03-a03c-f569b9e45f05",
   "metadata": {
    "tags": []
   },
   "outputs": [],
   "source": [
    "x_1 = get_markov_chain(array, transition_matrix,1)\n",
    "x_2 = get_markov_chain(array, transition_matrix,2)"
   ]
  },
  {
   "cell_type": "code",
   "execution_count": 26,
   "id": "5aa483d1-05a0-4515-8a41-ec288e67f288",
   "metadata": {
    "tags": []
   },
   "outputs": [
    {
     "data": {
      "text/plain": [
       "4.6017"
      ]
     },
     "execution_count": 26,
     "metadata": {},
     "output_type": "execute_result"
    }
   ],
   "source": [
    "np.mean(x_1)"
   ]
  },
  {
   "cell_type": "code",
   "execution_count": 25,
   "id": "584baed8-d631-4932-9bb3-1e411ab3f7f7",
   "metadata": {
    "tags": []
   },
   "outputs": [
    {
     "data": {
      "text/plain": [
       "3.8665"
      ]
     },
     "execution_count": 25,
     "metadata": {},
     "output_type": "execute_result"
    }
   ],
   "source": [
    "np.mean(x_2)"
   ]
  },
  {
   "cell_type": "markdown",
   "id": "dc9f0888-4aa0-46b5-b553-16d7e534952c",
   "metadata": {},
   "source": [
    "We can see we got the same results as in the handwritten part"
   ]
  },
  {
   "cell_type": "code",
   "execution_count": 36,
   "id": "0cd62cd3-59b6-4958-9e11-1f049f89dc79",
   "metadata": {
    "tags": []
   },
   "outputs": [
    {
     "data": {
      "image/png": "[encoded data removed]",
      "text/plain": [
       "<Figure size 640x480 with 1 Axes>"
      ]
     },
     "metadata": {},
     "output_type": "display_data"
    }
   ],
   "source": [
    "plt.hist(x_1, bins=np.arange(1,30,1)); #, bins=100, density=True\n",
    "plt.xticks(range(30));"
   ]
  },
  {
   "cell_type": "code",
   "execution_count": 38,
   "id": "7123cae8-8ae2-40b7-b554-b6e9f7b93668",
   "metadata": {
    "tags": []
   },
   "outputs": [
    {
     "data": {
      "image/png": "[encoded data removed]",
      "text/plain": [
       "<Figure size 640x480 with 1 Axes>"
      ]
     },
     "metadata": {},
     "output_type": "display_data"
    }
   ],
   "source": [
    "plt.hist(x_2, bins=np.arange(1,30,1)); #, bins=100, density=True\n",
    "plt.xticks(range(30));"
   ]
  },
  {
   "cell_type": "code",
   "execution_count": 40,
   "id": "e4c6a5e6-eaa5-4c1c-8fb4-253dc1ccf760",
   "metadata": {
    "tags": []
   },
   "outputs": [
    {
     "data": {
      "image/png": "[encoded data removed]",
      "text/plain": [
       "<Figure size 640x480 with 1 Axes>"
      ]
     },
     "metadata": {},
     "output_type": "display_data"
    }
   ],
   "source": [
    "plt.hist(x_1, bins=np.arange(1,30,1)); #, bins=100, density=True\n",
    "plt.hist(x_2, bins=np.arange(1,30,1)); #, bins=100, density=True\n",
    "plt.xticks(range(30));"
   ]
  }
 ],
 "metadata": {
  "kernelspec": {
   "display_name": "Python 3 (ipykernel)",
   "language": "python",
   "name": "python3"
  },
  "language_info": {
   "codemirror_mode": {
    "name": "ipython",
    "version": 3
   },
   "file_extension": ".py",
   "mimetype": "text/x-python",
   "name": "python",
   "nbconvert_exporter": "python",
   "pygments_lexer": "ipython3",
   "version": "3.11.0"
  }
 },
 "nbformat": 4,
 "nbformat_minor": 5
}
